{
 "cells": [
  {
   "cell_type": "markdown",
   "id": "56439b77",
   "metadata": {},
   "source": [
    "## Proyecto del módulo 2 "
   ]
  },
  {
   "cell_type": "markdown",
   "id": "74f0b15a",
   "metadata": {},
   "source": [
    "## ¿Qué es un fractal?: "
   ]
  },
  {
   "cell_type": "markdown",
   "id": "23da9162",
   "metadata": {},
   "source": [
    "Los fractales son estructuras matemáticas que se repiten a diferentes escalas, y tienen una amplia variedad de aplicaciones en diferentes campos."
   ]
  },
  {
   "cell_type": "markdown",
   "id": "48b214aa",
   "metadata": {},
   "source": [
    "## Ttiángulo de Serpinsky\n",
    "\n",
    "El Triángulo de Sierpinski es un famoso fractal geométrico que se construye mediante un proceso iterativo y se caracteriza por su auto-similaridad y estructura recursiva. Fue descubierto por el matemático polaco Wacław Sierpiński en 1915. El Triángulo de Sierpinski se forma a partir de un triángulo equilátero inicial al que se le eliminan repetidamente ciertas porciones de manera sistemática.\n",
    "\n",
    "## El proceso de construcción del Triángulo de Sierpinski es el siguiente:\n",
    "Comienza con un triángulo equilátero como forma inicial.\n",
    "\n",
    "Divide ese triángulo en cuatro triángulos equiláteros más pequeños de tamaño igual, conectando los puntos medios de los lados del triángulo original.\n",
    "\n",
    "Elimina el triángulo central de los cuatro triángulos más pequeños.\n",
    "\n",
    "Repite el proceso con los tres triángulos más pequeños que quedaron después de la eliminación del paso anterior.\n",
    "\n",
    "Continúa este proceso de subdivisión y eliminación iterativamente tantas veces como desees."
   ]
  },
  {
   "cell_type": "code",
   "execution_count": 6,
   "id": "5b3dab3a",
   "metadata": {},
   "outputs": [],
   "source": [
    "import numpy as np ##Se usa para arreglos \n",
    "import matplotlib.pyplot as plt ## Lo usamos para gráficar \n",
    "from numpy.random import random as rng ## Y con esta instruccion generamos los numeros aleatoreos "
   ]
  },
  {
   "cell_type": "code",
   "execution_count": 7,
   "id": "e2104945",
   "metadata": {},
   "outputs": [],
   "source": [
    "n=10000 #número de veces que se va a generar pueden ser las que quieras "
   ]
  },
  {
   "cell_type": "code",
   "execution_count": 8,
   "id": "1074680c",
   "metadata": {},
   "outputs": [],
   "source": [
    "##Aquí vamos a guardar las coordenadas de los puntos medios para los vectores \n",
    "coordenadasx=[]\n",
    "coordenadasy=[]\n",
    "##Con esto vamos a gráficar y generar el triángulo que sería el fractal "
   ]
  },
  {
   "cell_type": "code",
   "execution_count": 9,
   "id": "16da2c46",
   "metadata": {},
   "outputs": [
    {
     "data": {
      "text/plain": [
       "Text(0.05, 0.7, '$n=10,000$')"
      ]
     },
     "execution_count": 9,
     "metadata": {},
     "output_type": "execute_result"
    },
    {
     "data": {
      "image/png": "[encoded data removed]",
      "text/plain": [
       "<Figure size 640x480 with 1 Axes>"
      ]
     },
     "metadata": {},
     "output_type": "display_data"
    }
   ],
   "source": [
    "seedx=0.5  ##Punto donde vamos a comenzar una vez más podemos elegir el que queramos \n",
    "seedy=0.65\n",
    "\n",
    "##Guardamos las coordenadas en nuestro primer punto \n",
    "coordenadasx.append(seedx)\n",
    "coordenadasy.append(seedy)\n",
    "\n",
    "mediox=0 ##Iniciamos nuestras variables \n",
    "medioy=0\n",
    "\n",
    "## Le vamos a dar las coordenas de los vértices puede ser del tamaño y de las dimensiones que tu quieras \n",
    "## Un triángulo tiene 3 vértices por lo tanto le tenamos que dar 6 números, 2 por cada vertice para así poder generar un punto  \n",
    "v1x=0\n",
    "v1y=0\n",
    "v2x=0.5\n",
    "v2y=np.sqrt(3)/2\n",
    "v3x=1\n",
    "v3y=0\n",
    "\n",
    "r=[]\n",
    "r=rng(n) ##Aquí estamos diciendo que nos genere los numeros aleatoreos, ponemos n para decirle que seran los 10,000 numeros que declaramos al primcipo\n",
    "\n",
    "for i in range(n):\n",
    "    ##Ahora vamos a escoger nuestro vertice al azar con nuestro ciclo fork\n",
    "    ##Nosotros tenemos 3 vertices si eso lo partimos en 3 partes iguales la primera parte sería de o a 1/3\n",
    "    ##La segunda parte sería de 1/3 a 2/3 y la última parte sería de 2/3 a 3 osea 1\n",
    "    if (r[i]<1/3):\n",
    "        verticex=v1x\n",
    "        verticey=v1y\n",
    "    elif (1/3<r[i]<2/3):\n",
    "        verticex=v2x\n",
    "        verticey=v2y\n",
    "    elif (r[i]>2/3):\n",
    "        vericex=v3x\n",
    "        verticey=v3y\n",
    "##Solo para la primera interacción usamos el punto inicial porque solo una vez es i=0\n",
    "    if(i==0):\n",
    "        mediox=(verticex+seedx)/2\n",
    "        medioy=(verticey+seedy)/2\n",
    "    else:\n",
    "        mediox=(verticex+mediox)/2 ##Con esto sacamos un promedio con el punto medio que le estamos dadno el del origen \n",
    "        medioy=(verticey+medioy)/2 ##Después usamos la misma formula pero con los puntos medios que ya me genero \n",
    "\n",
    "    ##Ahora vamos a guardar las coordenadas de todos los puntos medios \n",
    "    coordenadasx.append(mediox)\n",
    "    coordenadasy.append(medioy)\n",
    "\n",
    "plt.plot(coordenadasx,coordenadasy,'g ,')\n",
    "plt.text(0.05, 0.7, r'$n=10,000$')"
   ]
  }
 ],
 "metadata": {
  "kernelspec": {
   "display_name": "Python 3 (ipykernel)",
   "language": "python",
   "name": "python3"
  },
  "language_info": {
   "codemirror_mode": {
    "name": "ipython",
    "version": 3
   },
   "file_extension": ".py",
   "mimetype": "text/x-python",
   "name": "python",
   "nbconvert_exporter": "python",
   "pygments_lexer": "ipython3",
   "version": "3.11.4"
  }
 },
 "nbformat": 4,
 "nbformat_minor": 5
}
